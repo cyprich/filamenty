{
 "cells": [
  {
   "cell_type": "markdown",
   "id": "1690c7b04288f259",
   "metadata": {},
   "source": [
    "# Ukážky použitých funkcií\n",
    "\n",
    "- create_db.py\n",
    "- show_db.py\n",
    "- generate_qrcodes.py\n",
    "- main.py\n"
   ]
  },
  {
   "cell_type": "markdown",
   "id": "a4b2fb2a504756d",
   "metadata": {},
   "source": [
    "## `create_db.py`"
   ]
  },
  {
   "cell_type": "code",
   "id": "5a08ac42311735e8",
   "metadata": {
    "ExecuteTime": {
     "end_time": "2025-01-28T22:26:16.174802Z",
     "start_time": "2025-01-28T22:26:16.172518Z"
    }
   },
   "source": [
    "#!/usr/bin/env python3\n",
    "\n",
    "import json\n",
    "import os\n",
    "import sqlite3\n",
    "\n",
    "print(\"hello\")"
   ],
   "outputs": [
    {
     "name": "stdout",
     "output_type": "stream",
     "text": [
      "hello\n"
     ]
    }
   ],
   "execution_count": 10
  },
  {
   "cell_type": "code",
   "id": "a5ba35e42c4ea4d5",
   "metadata": {
    "ExecuteTime": {
     "end_time": "2025-01-28T22:26:16.220474Z",
     "start_time": "2025-01-28T22:26:16.218110Z"
    }
   },
   "source": [
    "# remove old db if exists\n",
    "if os.path.exists(\"filaments.db\"):\n",
    "    os.remove(\"filaments.db\")"
   ],
   "outputs": [],
   "execution_count": 11
  },
  {
   "cell_type": "code",
   "id": "f2ec7da9636f501d",
   "metadata": {
    "ExecuteTime": {
     "end_time": "2025-01-28T22:26:16.301469Z",
     "start_time": "2025-01-28T22:26:16.299628Z"
    }
   },
   "source": [
    "# creating db\n",
    "conn = sqlite3.connect(\"filaments.db\")\n",
    "curs = conn.cursor()"
   ],
   "outputs": [],
   "execution_count": 12
  },
  {
   "cell_type": "code",
   "id": "a6fd4ef33a0f0d4e",
   "metadata": {
    "ExecuteTime": {
     "end_time": "2025-01-28T22:26:16.348389Z",
     "start_time": "2025-01-28T22:26:16.340967Z"
    }
   },
   "source": [
    "# creating table\n",
    "curs.execute(\"\"\"\n",
    "    CREATE TABLE IF NOT EXISTS filaments\n",
    "    (\n",
    "        id INTEGER PRIMARY KEY AUTOINCREMENT,\n",
    "        vendor TEXT,\n",
    "        material TEXT,\n",
    "        price REAL,\n",
    "        color_hex TEXT,\n",
    "        color_second_hex TEXT,\n",
    "        weight INT,\n",
    "        weight_orig INT,\n",
    "        weight_spool INT,\n",
    "        temp_min INT,\n",
    "        temp_max INT,\n",
    "        temp_bed_min INT,\n",
    "        temp_bed_max INT,\n",
    "        image_url TEXT,\n",
    "        UNIQUE(vendor, material, color_hex)\n",
    "    );\n",
    "\"\"\")"
   ],
   "outputs": [
    {
     "data": {
      "text/plain": [
       "<sqlite3.Cursor at 0x7341545fed40>"
      ]
     },
     "execution_count": 13,
     "metadata": {},
     "output_type": "execute_result"
    }
   ],
   "execution_count": 13
  },
  {
   "metadata": {
    "ExecuteTime": {
     "end_time": "2025-01-28T22:26:16.402985Z",
     "start_time": "2025-01-28T22:26:16.396407Z"
    }
   },
   "cell_type": "code",
   "source": [
    "# function for adding filaments to db\n",
    "def add_filament(\n",
    "        vendor: str,\n",
    "        material: str,\n",
    "        price: float,\n",
    "        color_hex: str,\n",
    "        color_second_hex: str | None,\n",
    "        weight: int,\n",
    "        weight_orig: int,\n",
    "        weight_spool: int,\n",
    "        temp_min: int,\n",
    "        temp_max: int,\n",
    "        temp_bed_min: int,\n",
    "        temp_bed_max: int | None,\n",
    "):\n",
    "    conn.execute(\n",
    "        \"\"\"INSERT OR IGNORE INTO filaments (\n",
    "        vendor, material, price, color_hex, color_second_hex, weight, weight_orig, weight_spool, temp_min, temp_max, temp_bed_min, temp_bed_max\n",
    "        ) VALUES (?, ?, ?, ?, ?, ?, ?, ?, ?, ?, ?, ?)\"\"\",\n",
    "        (\n",
    "            vendor,\n",
    "            material,\n",
    "            price,\n",
    "            color_hex,\n",
    "            color_second_hex,\n",
    "            weight,\n",
    "            weight_orig,\n",
    "            weight_spool,\n",
    "            temp_min,\n",
    "            temp_max,\n",
    "            temp_bed_min,\n",
    "            temp_bed_max,\n",
    "        ),\n",
    "    )\n",
    "\n",
    "\n",
    "# adding filaments\n",
    "add_filament(\"Bambu Lab\", \"PLA\", 29.99, \"#111\", None, 0, 1000, 250, 190, 230, 45, 65)\n",
    "add_filament(\n",
    "    \"Bambu Lab\", \"PLA\", 29.99, \"#c12e1f\", None, 290, 1000, 250, 190, 230, 45, 65\n",
    ")\n",
    "add_filament(\n",
    "    \"Filament PM\", \"PLA+\", 23.90, \"#eee\", None, 0, 1000, 216, 190, 210, 60, None\n",
    ")\n",
    "add_filament(\n",
    "    \"Filament PM\",\n",
    "    \"PLA+\",\n",
    "    23.90,\n",
    "    \"#73bab5\",\n",
    "    None,\n",
    "    870,\n",
    "    1000,\n",
    "    216,\n",
    "    190,\n",
    "    210,\n",
    "    60,\n",
    "    None,\n",
    ")\n",
    "add_filament(\"eSun\", \"PLA+\", 20.99, \"#fbe625\", None, 778, 1000, 224, 205, 225, 60, 80)\n",
    "add_filament(\n",
    "    \"eSun\",\n",
    "    \"Silk PLA\",\n",
    "    20.99,\n",
    "    \"#123cea\",\n",
    "    \"#61ccee\",\n",
    "    1040,\n",
    "    1000,\n",
    "    224,\n",
    "    190,\n",
    "    220,\n",
    "    60,\n",
    "    80,\n",
    ")\n",
    "add_filament(\n",
    "    \"eSun\",\n",
    "    \"Silk PLA\",\n",
    "    25.99,\n",
    "    \"#e41e95\",\n",
    "    \"#123cea\",\n",
    "    878,\n",
    "    1000,\n",
    "    220,\n",
    "    190,\n",
    "    230,\n",
    "    45,\n",
    "    60,\n",
    ")\n",
    "add_filament(\n",
    "    \"PolyMaker\",\n",
    "    \"PLA\",\n",
    "    19.99,\n",
    "    \"#e4bdd0\",\n",
    "    None,\n",
    "    640,\n",
    "    1000,\n",
    "    140,\n",
    "    190,\n",
    "    230,\n",
    "    25,\n",
    "    60,\n",
    ")\n",
    "add_filament(\n",
    "    \"PolyMaker\",\n",
    "    \"PLA\",\n",
    "    19.99,\n",
    "    \"#aaa\",\n",
    "    None,\n",
    "    716,\n",
    "    1000,\n",
    "    224,\n",
    "    190,\n",
    "    230,\n",
    "    25,\n",
    "    60,\n",
    ")\n",
    "add_filament(\n",
    "    \"Filament PM\", \"PLA\", 26.90, \"#80bf1a\", None, 822, 1000, 216, 220, 220, 25, 60\n",
    ")\n",
    "add_filament(\n",
    "    \"Prusa\",\n",
    "    \"PLA\",\n",
    "    29.99,\n",
    "    \"#fc6d09\",\n",
    "    None,\n",
    "    615,\n",
    "    1000,\n",
    "    186,\n",
    "    205,\n",
    "    225,\n",
    "    40,\n",
    "    60,\n",
    ")\n",
    "add_filament(\n",
    "    \"PolyMaker\",\n",
    "    \"PLA\",\n",
    "    19.99,\n",
    "    \"#111\",\n",
    "    None,\n",
    "    1140,\n",
    "    1000,\n",
    "    140,\n",
    "    190,\n",
    "    230,\n",
    "    25,\n",
    "    60,\n",
    ")\n",
    "add_filament(\n",
    "    \"PolyMaker\",\n",
    "    \"PLA\",\n",
    "    19.99,\n",
    "    \"#eee\",\n",
    "    None,\n",
    "    1132,\n",
    "    1000,\n",
    "    140,\n",
    "    190,\n",
    "    230,\n",
    "    25,\n",
    "    60,\n",
    ")\n",
    "add_filament(\n",
    "    \"Fiberlogy\", \"TPU 40D\", 25.30, \"#111\", None, 438, 500, 250, 200, 220, 50, 70\n",
    ")\n",
    "add_filament(\n",
    "    \"Filament PM\", \"PLA+\", 12.99, \"#a69281\", None, 503, 500, 216, 190, 210, 60, None\n",
    ")\n",
    "\n",
    "add_filament(\n",
    "    \"Filament PM\", \"PLA+\", 12.99, \"#a69282\", None, 503, 500, 216, 190, 210, 60, None\n",
    ")"
   ],
   "id": "81914acba044f03a",
   "outputs": [],
   "execution_count": 14
  },
  {
   "metadata": {
    "ExecuteTime": {
     "end_time": "2025-01-28T22:26:16.442602Z",
     "start_time": "2025-01-28T22:26:16.440343Z"
    }
   },
   "cell_type": "code",
   "source": [
    "# finding out server ip\n",
    "with open(\"config.json\", \"r\") as file:\n",
    "    IP = json.load(file)[\"ip\"]"
   ],
   "id": "ca94973357981287",
   "outputs": [],
   "execution_count": 15
  },
  {
   "cell_type": "code",
   "id": "88a24966ddd74e4a",
   "metadata": {
    "ExecuteTime": {
     "end_time": "2025-01-28T22:26:16.492110Z",
     "start_time": "2025-01-28T22:26:16.488955Z"
    }
   },
   "source": [
    "# inserting image urls\n",
    "curs.execute(\"SELECT * FROM filaments\")\n",
    "for i in curs.fetchall():\n",
    "    id = i[0]\n",
    "\n",
    "    filename = \"\"\n",
    "    possible_extensions = [\"png\", \"jpg\", \"jpeg\"]\n",
    "\n",
    "    # finding out if file exists, if so, it will be used\n",
    "    for ext in possible_extensions:\n",
    "        if os.path.exists(f\"images/filaments/{id}.{ext}\"):\n",
    "            filename = f\"{id}.{ext}\"\n",
    "            break\n",
    "\n",
    "    curs.execute(\n",
    "        \"UPDATE filaments SET image_url = ? WHERE id = ?\",\n",
    "        (f\"http://{IP}:5000/api/images/filaments/{filename or 'unknown.png'}\", id),\n",
    "    )"
   ],
   "outputs": [],
   "execution_count": 16
  },
  {
   "cell_type": "code",
   "id": "224ce13062ed37eb",
   "metadata": {
    "ExecuteTime": {
     "end_time": "2025-01-28T22:26:16.539862Z",
     "start_time": "2025-01-28T22:26:16.535390Z"
    }
   },
   "source": [
    "# comminting to db\n",
    "conn.commit()"
   ],
   "outputs": [],
   "execution_count": 17
  },
  {
   "cell_type": "code",
   "id": "ea38cd9726ca439d",
   "metadata": {
    "ExecuteTime": {
     "end_time": "2025-01-28T22:26:16.585961Z",
     "start_time": "2025-01-28T22:26:16.582157Z"
    }
   },
   "source": [
    "# showing the db\n",
    "curs.execute(\"SELECT * FROM filaments\")\n",
    "[print(i) for i in curs.fetchall()]"
   ],
   "outputs": [
    {
     "name": "stdout",
     "output_type": "stream",
     "text": [
      "(1, 'Bambu Lab', 'PLA', 29.99, '#111', None, 0, 1000, 250, 190, 230, 45, 65, 'http://192.168.88.16:5000/api/images/filaments/1.png')\n",
      "(2, 'Bambu Lab', 'PLA', 29.99, '#c12e1f', None, 290, 1000, 250, 190, 230, 45, 65, 'http://192.168.88.16:5000/api/images/filaments/2.png')\n",
      "(3, 'Filament PM', 'PLA+', 23.9, '#eee', None, 0, 1000, 216, 190, 210, 60, None, 'http://192.168.88.16:5000/api/images/filaments/3.png')\n",
      "(4, 'Filament PM', 'PLA+', 23.9, '#73bab5', None, 870, 1000, 216, 190, 210, 60, None, 'http://192.168.88.16:5000/api/images/filaments/4.png')\n",
      "(5, 'eSun', 'PLA+', 20.99, '#fbe625', None, 778, 1000, 224, 205, 225, 60, 80, 'http://192.168.88.16:5000/api/images/filaments/5.png')\n",
      "(6, 'eSun', 'Silk PLA', 20.99, '#123cea', '#61ccee', 1040, 1000, 224, 190, 220, 60, 80, 'http://192.168.88.16:5000/api/images/filaments/6.png')\n",
      "(7, 'eSun', 'Silk PLA', 25.99, '#e41e95', '#123cea', 878, 1000, 220, 190, 230, 45, 60, 'http://192.168.88.16:5000/api/images/filaments/7.png')\n",
      "(8, 'PolyMaker', 'PLA', 19.99, '#e4bdd0', None, 640, 1000, 140, 190, 230, 25, 60, 'http://192.168.88.16:5000/api/images/filaments/8.png')\n",
      "(9, 'PolyMaker', 'PLA', 19.99, '#aaa', None, 716, 1000, 224, 190, 230, 25, 60, 'http://192.168.88.16:5000/api/images/filaments/9.png')\n",
      "(10, 'Filament PM', 'PLA', 26.9, '#80bf1a', None, 822, 1000, 216, 220, 220, 25, 60, 'http://192.168.88.16:5000/api/images/filaments/10.png')\n",
      "(11, 'Prusa', 'PLA', 29.99, '#fc6d09', None, 615, 1000, 186, 205, 225, 40, 60, 'http://192.168.88.16:5000/api/images/filaments/11.png')\n",
      "(12, 'PolyMaker', 'PLA', 19.99, '#111', None, 1140, 1000, 140, 190, 230, 25, 60, 'http://192.168.88.16:5000/api/images/filaments/12.png')\n",
      "(13, 'PolyMaker', 'PLA', 19.99, '#eee', None, 1132, 1000, 140, 190, 230, 25, 60, 'http://192.168.88.16:5000/api/images/filaments/13.png')\n",
      "(14, 'Fiberlogy', 'TPU 40D', 25.3, '#111', None, 438, 500, 250, 200, 220, 50, 70, 'http://192.168.88.16:5000/api/images/filaments/14.png')\n",
      "(15, 'Filament PM', 'PLA+', 12.99, '#a69281', None, 503, 500, 216, 190, 210, 60, None, 'http://192.168.88.16:5000/api/images/filaments/15.png')\n",
      "(16, 'Filament PM', 'PLA+', 12.99, '#a69282', None, 503, 500, 216, 190, 210, 60, None, 'http://192.168.88.16:5000/api/images/filaments/unknown.png')\n"
     ]
    },
    {
     "data": {
      "text/plain": [
       "[None,\n",
       " None,\n",
       " None,\n",
       " None,\n",
       " None,\n",
       " None,\n",
       " None,\n",
       " None,\n",
       " None,\n",
       " None,\n",
       " None,\n",
       " None,\n",
       " None,\n",
       " None,\n",
       " None,\n",
       " None]"
      ]
     },
     "execution_count": 18,
     "metadata": {},
     "output_type": "execute_result"
    }
   ],
   "execution_count": 18
  },
  {
   "cell_type": "code",
   "id": "deed5493f9a6239f",
   "metadata": {
    "ExecuteTime": {
     "end_time": "2025-01-28T22:26:16.634675Z",
     "start_time": "2025-01-28T22:26:16.631897Z"
    }
   },
   "source": [
    "# close\n",
    "conn.close()"
   ],
   "outputs": [],
   "execution_count": 19
  },
  {
   "metadata": {},
   "cell_type": "markdown",
   "source": "## `show_db.py`",
   "id": "5a3839bef7915763"
  },
  {
   "metadata": {
    "ExecuteTime": {
     "end_time": "2025-01-28T22:26:16.681903Z",
     "start_time": "2025-01-28T22:26:16.679653Z"
    }
   },
   "cell_type": "code",
   "source": [
    "#!/usr/bin/env python3\n",
    "\n",
    "import sqlite3"
   ],
   "id": "fe5ed031905fc4ba",
   "outputs": [],
   "execution_count": 20
  },
  {
   "metadata": {
    "ExecuteTime": {
     "end_time": "2025-01-28T22:26:16.728509Z",
     "start_time": "2025-01-28T22:26:16.726198Z"
    }
   },
   "cell_type": "code",
   "source": [
    "# opening db\n",
    "conn = sqlite3.connect(\"filaments.db\")\n",
    "curs = conn.cursor()"
   ],
   "id": "90925540ba1c0aea",
   "outputs": [],
   "execution_count": 21
  },
  {
   "metadata": {
    "ExecuteTime": {
     "end_time": "2025-01-28T22:26:16.777496Z",
     "start_time": "2025-01-28T22:26:16.773232Z"
    }
   },
   "cell_type": "code",
   "source": [
    "# showing data\n",
    "curs.execute(\"SELECT * FROM filaments\")\n",
    "[print(i) for i in curs.fetchall()]"
   ],
   "id": "d71b8735fd0d8d6b",
   "outputs": [
    {
     "name": "stdout",
     "output_type": "stream",
     "text": [
      "(1, 'Bambu Lab', 'PLA', 29.99, '#111', None, 0, 1000, 250, 190, 230, 45, 65, 'http://192.168.88.16:5000/api/images/filaments/1.png')\n",
      "(2, 'Bambu Lab', 'PLA', 29.99, '#c12e1f', None, 290, 1000, 250, 190, 230, 45, 65, 'http://192.168.88.16:5000/api/images/filaments/2.png')\n",
      "(3, 'Filament PM', 'PLA+', 23.9, '#eee', None, 0, 1000, 216, 190, 210, 60, None, 'http://192.168.88.16:5000/api/images/filaments/3.png')\n",
      "(4, 'Filament PM', 'PLA+', 23.9, '#73bab5', None, 870, 1000, 216, 190, 210, 60, None, 'http://192.168.88.16:5000/api/images/filaments/4.png')\n",
      "(5, 'eSun', 'PLA+', 20.99, '#fbe625', None, 778, 1000, 224, 205, 225, 60, 80, 'http://192.168.88.16:5000/api/images/filaments/5.png')\n",
      "(6, 'eSun', 'Silk PLA', 20.99, '#123cea', '#61ccee', 1040, 1000, 224, 190, 220, 60, 80, 'http://192.168.88.16:5000/api/images/filaments/6.png')\n",
      "(7, 'eSun', 'Silk PLA', 25.99, '#e41e95', '#123cea', 878, 1000, 220, 190, 230, 45, 60, 'http://192.168.88.16:5000/api/images/filaments/7.png')\n",
      "(8, 'PolyMaker', 'PLA', 19.99, '#e4bdd0', None, 640, 1000, 140, 190, 230, 25, 60, 'http://192.168.88.16:5000/api/images/filaments/8.png')\n",
      "(9, 'PolyMaker', 'PLA', 19.99, '#aaa', None, 716, 1000, 224, 190, 230, 25, 60, 'http://192.168.88.16:5000/api/images/filaments/9.png')\n",
      "(10, 'Filament PM', 'PLA', 26.9, '#80bf1a', None, 822, 1000, 216, 220, 220, 25, 60, 'http://192.168.88.16:5000/api/images/filaments/10.png')\n",
      "(11, 'Prusa', 'PLA', 29.99, '#fc6d09', None, 615, 1000, 186, 205, 225, 40, 60, 'http://192.168.88.16:5000/api/images/filaments/11.png')\n",
      "(12, 'PolyMaker', 'PLA', 19.99, '#111', None, 1140, 1000, 140, 190, 230, 25, 60, 'http://192.168.88.16:5000/api/images/filaments/12.png')\n",
      "(13, 'PolyMaker', 'PLA', 19.99, '#eee', None, 1132, 1000, 140, 190, 230, 25, 60, 'http://192.168.88.16:5000/api/images/filaments/13.png')\n",
      "(14, 'Fiberlogy', 'TPU 40D', 25.3, '#111', None, 438, 500, 250, 200, 220, 50, 70, 'http://192.168.88.16:5000/api/images/filaments/14.png')\n",
      "(15, 'Filament PM', 'PLA+', 12.99, '#a69281', None, 503, 500, 216, 190, 210, 60, None, 'http://192.168.88.16:5000/api/images/filaments/15.png')\n",
      "(16, 'Filament PM', 'PLA+', 12.99, '#a69282', None, 503, 500, 216, 190, 210, 60, None, 'http://192.168.88.16:5000/api/images/filaments/unknown.png')\n"
     ]
    },
    {
     "data": {
      "text/plain": [
       "[None,\n",
       " None,\n",
       " None,\n",
       " None,\n",
       " None,\n",
       " None,\n",
       " None,\n",
       " None,\n",
       " None,\n",
       " None,\n",
       " None,\n",
       " None,\n",
       " None,\n",
       " None,\n",
       " None,\n",
       " None]"
      ]
     },
     "execution_count": 22,
     "metadata": {},
     "output_type": "execute_result"
    }
   ],
   "execution_count": 22
  },
  {
   "metadata": {
    "ExecuteTime": {
     "end_time": "2025-01-28T22:26:16.825410Z",
     "start_time": "2025-01-28T22:26:16.822704Z"
    }
   },
   "cell_type": "code",
   "source": [
    "# close\n",
    "conn.close()"
   ],
   "id": "d6dea1c3c6f2b1e3",
   "outputs": [],
   "execution_count": 23
  },
  {
   "cell_type": "markdown",
   "id": "23049382e55ad72c",
   "metadata": {},
   "source": [
    "## `generate_qrcodes.py`"
   ]
  },
  {
   "cell_type": "code",
   "id": "e83e3891583cd6fc",
   "metadata": {
    "ExecuteTime": {
     "end_time": "2025-01-28T22:26:16.873274Z",
     "start_time": "2025-01-28T22:26:16.869910Z"
    }
   },
   "source": [
    "#!/usr/bin/env python3\n",
    "\n",
    "import os\n",
    "import json\n",
    "import sqlite3\n",
    "import qrcode\n",
    "\n",
    "\"\"\"\n",
    "https://pypi.org/project/qrcode/\n",
    "\"\"\""
   ],
   "outputs": [
    {
     "data": {
      "text/plain": [
       "'\\nhttps://pypi.org/project/qrcode/\\n'"
      ]
     },
     "execution_count": 24,
     "metadata": {},
     "output_type": "execute_result"
    }
   ],
   "execution_count": 24
  },
  {
   "metadata": {
    "ExecuteTime": {
     "end_time": "2025-01-28T22:26:16.926423Z",
     "start_time": "2025-01-28T22:26:16.921913Z"
    }
   },
   "cell_type": "code",
   "source": [
    "def generate_qrcodes(id: int | None = None) -> None:\n",
    "    # connect to db\n",
    "    conn = sqlite3.connect(\"filaments.db\")\n",
    "    curs = conn.cursor()\n",
    "\n",
    "    # load ip address from file\n",
    "    with open(\"./config.json\", \"r\") as file:\n",
    "        IP = json.load(file)[\"ip\"]\n",
    "\n",
    "    # create directory if it doesnt exist\n",
    "    DIRECTORY = \"images/qr/\"\n",
    "    os.makedirs(DIRECTORY, exist_ok=True)\n",
    "\n",
    "    # removing old image/s and getting info for new image/s from db\n",
    "    if id is not None:\n",
    "        # id was specified => generating for specific filament\n",
    "        if os.path.exists(f\"{DIRECTORY}/{id}.png\"):\n",
    "            os.remove(f\"{DIRECTORY}/{id}.png\")\n",
    "\n",
    "        curs.execute(\"SELECT * FROM filaments WHERE id=?\", (id,))\n",
    "    else:\n",
    "        # id wasnt specified => all files\n",
    "        for file in os.listdir(DIRECTORY):\n",
    "            os.remove(f\"{DIRECTORY}/{file}\")\n",
    "\n",
    "        curs.execute(\"SELECT * FROM filaments\")\n",
    "\n",
    "    for i in curs.fetchall():\n",
    "        # data inside QR code\n",
    "        DATA = f\"http://{IP}:3000/filament/{i[0]}\"\n",
    "\n",
    "        # create qrcode\n",
    "        qr = qrcode.QRCode(version=None, border=0)  # auto size, no padding\n",
    "        qr.add_data(DATA)  # QR code data\n",
    "        qr.make(fit=True)\n",
    "\n",
    "        img = qr.make_image(fill_color=\"black\", back_color=\"white\")  # make image\n",
    "        img.save(f\"{DIRECTORY}{i[0]}.png\")  # save image\n"
   ],
   "id": "697ffe67a43bb941",
   "outputs": [],
   "execution_count": 25
  },
  {
   "metadata": {
    "ExecuteTime": {
     "end_time": "2025-01-28T22:26:17.062782Z",
     "start_time": "2025-01-28T22:26:16.976967Z"
    }
   },
   "cell_type": "code",
   "source": "generate_qrcodes()",
   "id": "686bf77b1edf62a0",
   "outputs": [],
   "execution_count": 26
  },
  {
   "metadata": {
    "ExecuteTime": {
     "end_time": "2025-01-28T22:26:17.091301Z",
     "start_time": "2025-01-28T22:26:17.068563Z"
    }
   },
   "cell_type": "code",
   "source": [
    "generate_qrcodes(1)\n",
    "generate_qrcodes(2)\n",
    "generate_qrcodes(3)\n",
    "generate_qrcodes(4)"
   ],
   "id": "2d3530527ed93fbb",
   "outputs": [],
   "execution_count": 27
  },
  {
   "metadata": {},
   "cell_type": "markdown",
   "source": "## `main.py`",
   "id": "1dd531f7917e8dee"
  },
  {
   "metadata": {
    "ExecuteTime": {
     "end_time": "2025-01-28T22:26:17.199798Z",
     "start_time": "2025-01-28T22:26:17.113823Z"
    }
   },
   "cell_type": "code",
   "source": [
    "#!/usr/bin/env python3\n",
    "\n",
    "import json\n",
    "import os\n",
    "import random\n",
    "import sqlite3\n",
    "from typing import Any\n",
    "\n",
    "import requests\n",
    "from flask import Flask, jsonify, request, send_from_directory\n",
    "from flask_cors import CORS\n",
    "from generate_qrcodes import generate_qrcodes"
   ],
   "id": "a013a7cce8a1aab7",
   "outputs": [],
   "execution_count": 28
  },
  {
   "metadata": {
    "ExecuteTime": {
     "end_time": "2025-01-28T22:26:17.208414Z",
     "start_time": "2025-01-28T22:26:17.206169Z"
    }
   },
   "cell_type": "code",
   "source": [
    "# items in database\n",
    "fields = (\n",
    "    \"id\",\n",
    "    \"vendor\",\n",
    "    \"material\",\n",
    "    \"price\",\n",
    "    \"color_hex\",\n",
    "    \"color_second_hex\",\n",
    "    \"weight\",\n",
    "    \"weight_orig\",\n",
    "    \"weight_spool\",\n",
    "    \"temp_min\",\n",
    "    \"temp_max\",\n",
    "    \"temp_bed_min\",\n",
    "    \"temp_bed_max\",\n",
    "    \"image_url\",\n",
    ")"
   ],
   "id": "c337b12c1c0597cb",
   "outputs": [],
   "execution_count": 29
  },
  {
   "metadata": {
    "ExecuteTime": {
     "end_time": "2025-01-28T22:26:17.331547Z",
     "start_time": "2025-01-28T22:26:17.250443Z"
    }
   },
   "cell_type": "code",
   "source": [
    "# re-generate qr codes\n",
    "generate_qrcodes()"
   ],
   "id": "820e7cdd780e97cf",
   "outputs": [],
   "execution_count": 30
  },
  {
   "metadata": {
    "ExecuteTime": {
     "end_time": "2025-01-28T22:26:17.341143Z",
     "start_time": "2025-01-28T22:26:17.339218Z"
    }
   },
   "cell_type": "code",
   "source": [
    "# get server ip\n",
    "with open(\"config.json\", \"r\") as file:\n",
    "    IP = json.load(file)[\"ip\"]"
   ],
   "id": "7a5b39b32a340f75",
   "outputs": [],
   "execution_count": 31
  },
  {
   "metadata": {
    "ExecuteTime": {
     "end_time": "2025-01-28T22:26:17.387183Z",
     "start_time": "2025-01-28T22:26:17.383978Z"
    }
   },
   "cell_type": "code",
   "source": [
    "# connects to database and returns the connection\n",
    "def get_conn() -> sqlite3.Connection:\n",
    "    return sqlite3.connect(\"filaments.db\", check_same_thread=False)"
   ],
   "id": "e44ab95c2ef3ca0e",
   "outputs": [],
   "execution_count": 32
  },
  {
   "metadata": {
    "ExecuteTime": {
     "end_time": "2025-01-28T22:26:17.438214Z",
     "start_time": "2025-01-28T22:26:17.433705Z"
    }
   },
   "cell_type": "code",
   "source": [
    "# initialize app\n",
    "app = Flask(__name__)\n",
    "CORS(app)"
   ],
   "id": "ae401b01fa2ad941",
   "outputs": [
    {
     "data": {
      "text/plain": [
       "<flask_cors.extension.CORS at 0x73413b0ed6a0>"
      ]
     },
     "execution_count": 33,
     "metadata": {},
     "output_type": "execute_result"
    }
   ],
   "execution_count": 33
  },
  {
   "metadata": {
    "ExecuteTime": {
     "end_time": "2025-01-28T22:26:17.487272Z",
     "start_time": "2025-01-28T22:26:17.484135Z"
    }
   },
   "cell_type": "code",
   "source": [
    "# /api endpoint\n",
    "@app.route(\"/api/\", methods=[\"GET\"])\n",
    "def index():\n",
    "    return jsonify(message=\"Hello from backend!\")"
   ],
   "id": "745b6a223c10865",
   "outputs": [],
   "execution_count": 34
  },
  {
   "metadata": {
    "ExecuteTime": {
     "end_time": "2025-01-28T22:26:17.537938Z",
     "start_time": "2025-01-28T22:26:17.533887Z"
    }
   },
   "cell_type": "code",
   "source": [
    "# endpoint for getting all info about filaments\n",
    "@app.route(\"/api/filaments/\", methods=[\"GET\"])\n",
    "def filaments():\n",
    "    conn = get_conn()\n",
    "    curs = conn.cursor()\n",
    "\n",
    "    curs.execute(\"SELECT * FROM filaments\")\n",
    "\n",
    "    parsed_filaments: list[dict[str, Any]] = []\n",
    "\n",
    "    for row in curs.fetchall():\n",
    "        parsed_filaments.append({fields[i]: row[i] for i in range(len(fields))})\n",
    "\n",
    "    conn.close()\n",
    "    return jsonify(filaments=parsed_filaments)"
   ],
   "id": "31cff7f2e6c8eb6a",
   "outputs": [],
   "execution_count": 35
  },
  {
   "metadata": {
    "ExecuteTime": {
     "end_time": "2025-01-28T22:26:17.587335Z",
     "start_time": "2025-01-28T22:26:17.583343Z"
    }
   },
   "cell_type": "code",
   "source": [
    "# endpoint for getting info about specific filament by it's id\n",
    "@app.route(\"/api/filaments/<int:id>/\", methods=[\"GET\"])\n",
    "def filament(id: int):\n",
    "    conn = get_conn()\n",
    "    curs = conn.cursor()\n",
    "\n",
    "    curs.execute(\"SELECT * FROM filaments WHERE id=?\", (id,))\n",
    "    resp = curs.fetchone()\n",
    "\n",
    "    if resp is None:\n",
    "        return {\"error\": \"Filament not found\"}, 404\n",
    "\n",
    "    conn.close()\n",
    "    return jsonify(filaments={fields[i]: resp[i] for i in range(len(fields))})"
   ],
   "id": "400b98321af85d3f",
   "outputs": [],
   "execution_count": 36
  },
  {
   "metadata": {
    "ExecuteTime": {
     "end_time": "2025-01-28T22:26:17.637193Z",
     "start_time": "2025-01-28T22:26:17.633941Z"
    }
   },
   "cell_type": "code",
   "source": [
    "# endpoint for getting info about random filament\n",
    "@app.route(\"/api/filaments/random/\", methods=[\"GET\"])\n",
    "def filament_random():\n",
    "    # get all available filaments\n",
    "    response = requests.get(f\"http://{IP}:5000/api/info/\")\n",
    "\n",
    "    if response.status_code != 200:\n",
    "        return {\"error\": \"Failed to get info\"}, 500\n",
    "\n",
    "    id = random.choice(response.json()[\"ids\"])\n",
    "\n",
    "    return requests.get(f\"http://{IP}:5000/api/filaments/{id}/\").json()"
   ],
   "id": "1873b0fd496dac9f",
   "outputs": [],
   "execution_count": 37
  },
  {
   "metadata": {
    "ExecuteTime": {
     "end_time": "2025-01-28T22:26:17.687496Z",
     "start_time": "2025-01-28T22:26:17.682437Z"
    }
   },
   "cell_type": "code",
   "source": [
    "# endpoint for adding filaments\n",
    "@app.route(\"/api/filaments/\", methods=[\"POST\"])\n",
    "def filament_post():\n",
    "    conn = get_conn()\n",
    "    curs = conn.cursor()\n",
    "\n",
    "    data = {}\n",
    "\n",
    "    # add all provided data to \"data\" variable\n",
    "    for i in range(len(fields)):\n",
    "        try:\n",
    "            data[fields[i]] = request.form.get(fields[i])\n",
    "        except Exception:\n",
    "            pass\n",
    "\n",
    "    # only values which user provided\n",
    "    valid_fields = [i for i in data.keys() if data[i] is not None]\n",
    "    valid_values = [data[i] for i in valid_fields]\n",
    "\n",
    "    # string = f\"INSERT OR IGNORE INTO filaments {[i for i in valid_fields]}, VALUES ({'?,' * len(valid_fields)})\"\n",
    "    string = f\"INSERT OR IGNORE INTO filaments ({','.join(valid_fields)}) VALUES ({','.join(['?'] * len(valid_fields))})\"\n",
    "\n",
    "    curs.execute(string, valid_values)\n",
    "    conn.commit()\n",
    "\n",
    "    # find id of new added filament\n",
    "    curs.execute(\n",
    "        \"SELECT * FROM filaments WHERE vendor=? AND material=? AND color_hex=?\",\n",
    "        (data[\"vendor\"], data[\"material\"], data[\"color_hex\"]),\n",
    "    )\n",
    "\n",
    "    id = curs.fetchone()[0]\n",
    "    image = request.files.get(\"image\")\n",
    "\n",
    "    if image and image.filename:\n",
    "        extension = image.filename.split(\".\")[-1]\n",
    "        image.save(f\"images/filaments/{id}.{extension}\")\n",
    "\n",
    "        curs.execute(\n",
    "            \"UPDATE filaments SET image_url=? WHERE id=?\",\n",
    "            (f\"http://{IP}:5000/api/images/filaments/{id}.{extension}\", id),\n",
    "        )\n",
    "\n",
    "        conn.commit()\n",
    "\n",
    "        generate_qrcodes(id)\n",
    "\n",
    "    return requests.get(f\"http://{IP}:5000/api/filaments/{id}/\").json()"
   ],
   "id": "93a5aa5a509b54a",
   "outputs": [],
   "execution_count": 38
  },
  {
   "metadata": {
    "ExecuteTime": {
     "end_time": "2025-01-28T22:26:17.740425Z",
     "start_time": "2025-01-28T22:26:17.736159Z"
    }
   },
   "cell_type": "code",
   "source": [
    "# endpoint for editing filmaent info\n",
    "@app.route(\"/api/filaments/<int:id>/\", methods=[\"PUT\"])\n",
    "def filament_put(id: int):\n",
    "    conn = get_conn()\n",
    "    curs = conn.cursor()\n",
    "\n",
    "    data = request.get_json()\n",
    "    key = data[\"key\"]  # which field is going to be changed\n",
    "    value = data[\"value\"]  # new value\n",
    "\n",
    "    curs.execute(f\"UPDATE filaments SET {key} = ? WHERE id = ?\", (value, id))\n",
    "    conn.commit()\n",
    "\n",
    "    curs.execute(\"SELECT * FROM filaments WHERE id = ?\", (id,))\n",
    "    resp = curs.fetchone()\n",
    "\n",
    "    conn.close()\n",
    "\n",
    "    return jsonify(filaments={fields[i]: resp[i] for i in range(len(fields))})"
   ],
   "id": "9ef398def5f100de",
   "outputs": [],
   "execution_count": 39
  },
  {
   "metadata": {
    "ExecuteTime": {
     "end_time": "2025-01-28T22:26:17.790998Z",
     "start_time": "2025-01-28T22:26:17.786723Z"
    }
   },
   "cell_type": "code",
   "source": [
    "# endpoint for deleting filaments\n",
    "@app.route(\"/api/filaments/<int:id>/\", methods=[\"DELETE\"])\n",
    "def filament_delete(id: int):\n",
    "    conn = get_conn()\n",
    "    curs = conn.cursor()\n",
    "\n",
    "    curs.execute(\"SELECT * FROM filaments WHERE id = ?\", (id,))\n",
    "    resp = curs.fetchone()\n",
    "\n",
    "    # filament not in db\n",
    "    if resp is None:\n",
    "        return {\"error\": \"Filament not found\"}, 404\n",
    "\n",
    "    curs.execute(\"DELETE FROM filaments WHERE id = ?\", (id,))\n",
    "    conn.commit()\n",
    "\n",
    "    # deleting image\n",
    "    # couldnt get image path from db from \"image_url\" because it could be fallback image which should not be deleted\n",
    "    for i in [\"jpg\", \"png\"]:\n",
    "        try:\n",
    "            os.remove(f\"images/filaments/{id}.{i}\")\n",
    "        except Exception:\n",
    "            pass\n",
    "\n",
    "    conn.close()\n",
    "\n",
    "    return jsonify(filaments={fields[i]: resp[i] for i in range(len(fields))})"
   ],
   "id": "96cf182976a3687e",
   "outputs": [],
   "execution_count": 40
  },
  {
   "metadata": {
    "ExecuteTime": {
     "end_time": "2025-01-28T22:26:17.839952Z",
     "start_time": "2025-01-28T22:26:17.835646Z"
    }
   },
   "cell_type": "code",
   "source": [
    "# endpoint for general info in database\n",
    "@app.route(\"/api/info/\", methods=[\"GET\"])\n",
    "def info():\n",
    "    conn = get_conn()\n",
    "    curs = conn.cursor()\n",
    "\n",
    "    curs.execute(\"SELECT * FROM filaments\")\n",
    "    data = curs.fetchall()\n",
    "\n",
    "    # ids of filaments in database\n",
    "    ids = [i[0] for i in data]\n",
    "\n",
    "    return {\n",
    "        \"filament_count\": len(data),  # number of filaments\n",
    "        \"ids\": ids,  # valid filament ids\n",
    "        \"invalid_ids\": [\n",
    "            i for i in range(len(data)) if i not in ids\n",
    "        ],  # invalid filament ids\n",
    "    }"
   ],
   "id": "2a058761d0685966",
   "outputs": [],
   "execution_count": 41
  },
  {
   "metadata": {
    "ExecuteTime": {
     "end_time": "2025-01-28T22:26:17.887269Z",
     "start_time": "2025-01-28T22:26:17.883552Z"
    }
   },
   "cell_type": "code",
   "source": [
    "# endpoint for getting images\n",
    "@app.route(\"/api/images/<path:filename>/\", methods=[\"GET\"])\n",
    "def get_image(filename: str):\n",
    "    return send_from_directory(\"images/\", filename)"
   ],
   "id": "788d85a422634179",
   "outputs": [],
   "execution_count": 42
  },
  {
   "metadata": {
    "ExecuteTime": {
     "end_time": "2025-01-28T22:26:29.559459Z",
     "start_time": "2025-01-28T22:26:17.933853Z"
    }
   },
   "cell_type": "code",
   "source": [
    "# running backend\n",
    "if __name__ == \"__main__\":\n",
    "    app.run(\"0.0.0.0\", 5000)"
   ],
   "id": "38d35a8f761824e6",
   "outputs": [
    {
     "name": "stdout",
     "output_type": "stream",
     "text": [
      " * Serving Flask app '__main__'\n",
      " * Debug mode: off\n"
     ]
    },
    {
     "name": "stderr",
     "output_type": "stream",
     "text": [
      "\u001B[31m\u001B[1mWARNING: This is a development server. Do not use it in a production deployment. Use a production WSGI server instead.\u001B[0m\n",
      " * Running on all addresses (0.0.0.0)\n",
      " * Running on http://127.0.0.1:5000\n",
      " * Running on http://192.168.88.16:5000\n",
      "\u001B[33mPress CTRL+C to quit\u001B[0m\n"
     ]
    }
   ],
   "execution_count": 43
  }
 ],
 "metadata": {
  "kernelspec": {
   "display_name": "Python 3 (ipykernel)",
   "language": "python",
   "name": "python3"
  },
  "language_info": {
   "codemirror_mode": {
    "name": "ipython",
    "version": 3
   },
   "file_extension": ".py",
   "mimetype": "text/x-python",
   "name": "python",
   "nbconvert_exporter": "python",
   "pygments_lexer": "ipython3",
   "version": "3.13.1"
  }
 },
 "nbformat": 4,
 "nbformat_minor": 5
}
